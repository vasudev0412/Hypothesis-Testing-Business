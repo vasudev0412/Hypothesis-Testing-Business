{
 "cells": [
  {
   "cell_type": "code",
   "execution_count": 1,
   "metadata": {},
   "outputs": [],
   "source": [
    "import pandas as pd\n",
    "\n",
    "import scipy.stats as stats\n",
    "\n",
    "import numpy as np"
   ]
  },
  {
   "cell_type": "code",
   "execution_count": 4,
   "metadata": {},
   "outputs": [
    {
     "data": {
      "text/html": [
       "<div>\n",
       "<style scoped>\n",
       "    .dataframe tbody tr th:only-of-type {\n",
       "        vertical-align: middle;\n",
       "    }\n",
       "\n",
       "    .dataframe tbody tr th {\n",
       "        vertical-align: top;\n",
       "    }\n",
       "\n",
       "    .dataframe thead th {\n",
       "        text-align: right;\n",
       "    }\n",
       "</style>\n",
       "<table border=\"1\" class=\"dataframe\">\n",
       "  <thead>\n",
       "    <tr style=\"text-align: right;\">\n",
       "      <th></th>\n",
       "      <th>Sr No</th>\n",
       "      <th>S_Cust_id</th>\n",
       "      <th>Samsung_Score</th>\n",
       "      <th>Apple_Cust_id</th>\n",
       "      <th>Apple_Score</th>\n",
       "    </tr>\n",
       "  </thead>\n",
       "  <tbody>\n",
       "    <tr>\n",
       "      <th>0</th>\n",
       "      <td>1</td>\n",
       "      <td>S336499</td>\n",
       "      <td>94</td>\n",
       "      <td>A336525</td>\n",
       "      <td>82</td>\n",
       "    </tr>\n",
       "    <tr>\n",
       "      <th>1</th>\n",
       "      <td>2</td>\n",
       "      <td>S73004</td>\n",
       "      <td>99</td>\n",
       "      <td>A73011</td>\n",
       "      <td>83</td>\n",
       "    </tr>\n",
       "    <tr>\n",
       "      <th>2</th>\n",
       "      <td>3</td>\n",
       "      <td>S79537</td>\n",
       "      <td>74</td>\n",
       "      <td>A79538</td>\n",
       "      <td>88</td>\n",
       "    </tr>\n",
       "    <tr>\n",
       "      <th>3</th>\n",
       "      <td>4</td>\n",
       "      <td>S769168</td>\n",
       "      <td>74</td>\n",
       "      <td>A769222</td>\n",
       "      <td>80</td>\n",
       "    </tr>\n",
       "    <tr>\n",
       "      <th>4</th>\n",
       "      <td>5</td>\n",
       "      <td>S609791</td>\n",
       "      <td>83</td>\n",
       "      <td>A609801</td>\n",
       "      <td>74</td>\n",
       "    </tr>\n",
       "  </tbody>\n",
       "</table>\n",
       "</div>"
      ],
      "text/plain": [
       "   Sr No S_Cust_id  Samsung_Score Apple_Cust_id  Apple_Score\n",
       "0      1   S336499             94       A336525           82\n",
       "1      2    S73004             99        A73011           83\n",
       "2      3    S79537             74        A79538           88\n",
       "3      4   S769168             74       A769222           80\n",
       "4      5   S609791             83       A609801           74"
      ]
     },
     "execution_count": 4,
     "metadata": {},
     "output_type": "execute_result"
    }
   ],
   "source": [
    "testing = pd.read_csv('G:/Data Science Recorded Lectures/case studies/8. Basic Stats - Case Study-2/8. Basic Stats - Case Study-2/Testing_Of_Hypothesis.csv')\n",
    "\n",
    "testing.head()"
   ]
  },
  {
   "cell_type": "markdown",
   "metadata": {},
   "source": [
    "### 1. The Samsung Average customer satisfaction score is minimum 75%"
   ]
  },
  {
   "cell_type": "markdown",
   "metadata": {},
   "source": [
    "### One Sample t-test"
   ]
  },
  {
   "cell_type": "raw",
   "metadata": {},
   "source": [
    "Ho : Samsung Average Customer Satisfaction Score == 75%\n",
    "\n",
    "Ha : Samsung Average Customer Satisfaction Score != 75%"
   ]
  },
  {
   "cell_type": "code",
   "execution_count": 5,
   "metadata": {},
   "outputs": [
    {
     "data": {
      "text/plain": [
       "84.9"
      ]
     },
     "execution_count": 5,
     "metadata": {},
     "output_type": "execute_result"
    }
   ],
   "source": [
    "mean_sat = testing['Samsung_Score'].mean()\n",
    "mean_sat"
   ]
  },
  {
   "cell_type": "code",
   "execution_count": 6,
   "metadata": {},
   "outputs": [
    {
     "data": {
      "text/plain": [
       "63.675000000000004"
      ]
     },
     "execution_count": 6,
     "metadata": {},
     "output_type": "execute_result"
    }
   ],
   "source": [
    "per_sat = 0.75 * 84.9\n",
    "per_sat"
   ]
  },
  {
   "cell_type": "code",
   "execution_count": 7,
   "metadata": {},
   "outputs": [
    {
     "name": "stdout",
     "output_type": "stream",
     "text": [
      "The p value is 7.714674273163621e-33 and the T Score is 17.92\n"
     ]
    }
   ],
   "source": [
    "ttest_1 = stats.ttest_1samp(a=testing['Samsung_Score'], popmean = 63.675000000000004 )\n",
    "t_score = round(ttest_1.statistic,2)\n",
    "p_value = ttest_1.pvalue\n",
    "print(\"The p value is {} and the T Score is {}\".format(p_value,t_score))"
   ]
  },
  {
   "cell_type": "markdown",
   "metadata": {},
   "source": [
    "Since the significance value of the test is less than 0.05, we reject the null hypothesis. Therefore Samsung Average Customer Satisfaction Score is not equal to 75%. Hence the hypothesis The Samsung Average customer satisfaction score is minimum 75% is wrong"
   ]
  },
  {
   "cell_type": "markdown",
   "metadata": {},
   "source": [
    "### 2. The overall average satisfaction score of Samsung is same as Apple. There is no significant difference in the satisfaction scores"
   ]
  },
  {
   "cell_type": "markdown",
   "metadata": {},
   "source": [
    "#### Two Sample t-test(Independent)"
   ]
  },
  {
   "cell_type": "code",
   "execution_count": 9,
   "metadata": {},
   "outputs": [],
   "source": [
    "samsung_score = testing['Samsung_Score']\n",
    "\n",
    "apple_score = testing['Apple_Score']"
   ]
  },
  {
   "cell_type": "code",
   "execution_count": 11,
   "metadata": {},
   "outputs": [
    {
     "name": "stdout",
     "output_type": "stream",
     "text": [
      "The average satisfaction scores of Samsung customers is 84.9\n",
      "The average satisfaction scores of Apple customers is 87.81\n"
     ]
    }
   ],
   "source": [
    "print(\"The average satisfaction scores of Samsung customers is {}\".format(samsung_score.mean()))\n",
    "print(\"The average satisfaction scores of Apple customers is {}\".format(apple_score.mean()))"
   ]
  },
  {
   "cell_type": "raw",
   "metadata": {},
   "source": [
    "stats.ttest_ind(a=,b=)\n",
    "# 1. Two different assumptions : Apple customer satisfaction score and Samsung customer satisfaction store equal var\n",
    "#                              : unequal variance\n",
    "\n",
    "# 2. If t value is same in both the cases : variance in A and B is same\n",
    "\n",
    "# 3. If t value in different : var in A != var B : \n",
    "#      consider the results from unequal variance\n",
    "\n",
    "H0 :  Satisfaction score of Samsung ==  Satisfaction score of Apple\n",
    "H1 : Satisfaction score of Samsung != Satisfaction score of Apple"
   ]
  },
  {
   "cell_type": "code",
   "execution_count": 14,
   "metadata": {},
   "outputs": [
    {
     "data": {
      "text/plain": [
       "-1.9064295935043472"
      ]
     },
     "execution_count": 14,
     "metadata": {},
     "output_type": "execute_result"
    }
   ],
   "source": [
    "equal_var = stats.ttest_ind(a= samsung_score, b= apple_score,equal_var=True)    # equal variance\n",
    "equal_var.statistic"
   ]
  },
  {
   "cell_type": "code",
   "execution_count": 15,
   "metadata": {},
   "outputs": [
    {
     "data": {
      "text/plain": [
       "-1.9064295935043474"
      ]
     },
     "execution_count": 15,
     "metadata": {},
     "output_type": "execute_result"
    }
   ],
   "source": [
    "unequal_var = stats.ttest_ind(a= samsung_score,b= apple_score,equal_var=False)    # UnEqual variance\n",
    "unequal_var.statistic"
   ]
  },
  {
   "cell_type": "code",
   "execution_count": 16,
   "metadata": {},
   "outputs": [
    {
     "data": {
      "text/plain": [
       "-2.220446049250313e-16"
      ]
     },
     "execution_count": 16,
     "metadata": {},
     "output_type": "execute_result"
    }
   ],
   "source": [
    "# We'll cosider equal variance since the t score is not having a huge difference\n",
    "unequal_var.statistic - equal_var.statistic"
   ]
  },
  {
   "cell_type": "code",
   "execution_count": 17,
   "metadata": {},
   "outputs": [
    {
     "name": "stdout",
     "output_type": "stream",
     "text": [
      " For the above test, the t-score is -1.9064295935043472 and the p-value is 0.058042614444118075\n",
      "We fail to reject null hypothesis\n"
     ]
    }
   ],
   "source": [
    "t = equal_var.statistic\n",
    "\n",
    "p = equal_var.pvalue\n",
    "\n",
    "print(\" For the above test, the t-score is {} and the p-value is {}\".format(t,p))\n",
    "\n",
    "if(p<0.05):\n",
    "    print('We reject null hypothesis')\n",
    "else:\n",
    "    print('We fail to reject null hypothesis')"
   ]
  },
  {
   "cell_type": "markdown",
   "metadata": {},
   "source": [
    "Since the significance value of the test is greater than 0.05, we can safely conclude that The overall average satisfaction score of Samsung is same as Apple. There is no significant difference in the satisfaction scores. Hence the hypothesis The overall average satisfaction score of Samsung is same as Apple. There is no significant difference in the satisfaction scores is correct"
   ]
  },
  {
   "cell_type": "code",
   "execution_count": null,
   "metadata": {},
   "outputs": [],
   "source": []
  },
  {
   "cell_type": "code",
   "execution_count": null,
   "metadata": {},
   "outputs": [],
   "source": []
  }
 ],
 "metadata": {
  "kernelspec": {
   "display_name": "Python 3",
   "language": "python",
   "name": "python3"
  },
  "language_info": {
   "codemirror_mode": {
    "name": "ipython",
    "version": 3
   },
   "file_extension": ".py",
   "mimetype": "text/x-python",
   "name": "python",
   "nbconvert_exporter": "python",
   "pygments_lexer": "ipython3",
   "version": "3.7.3"
  }
 },
 "nbformat": 4,
 "nbformat_minor": 2
}
